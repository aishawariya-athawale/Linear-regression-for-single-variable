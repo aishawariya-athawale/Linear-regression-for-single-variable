{
 "cells": [
  {
   "cell_type": "code",
   "execution_count": 1,
   "metadata": {},
   "outputs": [],
   "source": [
    "import matplotlib.pyplot as plt\n",
    "import numpy as np\n",
    "from sklearn.linear_model import LinearRegression"
   ]
  },
  {
   "cell_type": "markdown",
   "metadata": {},
   "source": [
    "The data here is height & weight of 21 people"
   ]
  },
  {
   "cell_type": "code",
   "execution_count": 2,
   "metadata": {},
   "outputs": [],
   "source": [
    "h = np.array([5.5, 5.42, 5.92, 5.42,5.75,5.0,5.33,5.67,5.08,5.92,5.42,5.92,5.67,5.42,5.58,5.5,5.17,5.67,5.67,5.5]).reshape((-1,1))\n",
    "w = np.array([58,56,60,45,60,47,70,62,42,74,61,60,72,58,50,62,45,58,70,60])"
   ]
  },
  {
   "cell_type": "code",
   "execution_count": 3,
   "metadata": {},
   "outputs": [],
   "source": [
    "model = LinearRegression().fit(h,w)"
   ]
  },
  {
   "cell_type": "code",
   "execution_count": 4,
   "metadata": {},
   "outputs": [],
   "source": [
    "a = model.coef_\n",
    "b= model.intercept_"
   ]
  },
  {
   "cell_type": "code",
   "execution_count": 5,
   "metadata": {},
   "outputs": [
    {
     "name": "stdout",
     "output_type": "stream",
     "text": [
      "Slope =  22.1217\n",
      "Intercept =  -63.7558\n"
     ]
    }
   ],
   "source": [
    "print(\"Slope = \",\"%.4f\"%a)\n",
    "print(\"Intercept = \",\"%.4f\"%b)"
   ]
  },
  {
   "cell_type": "markdown",
   "metadata": {},
   "source": [
    "Selecting data points for plotting graph"
   ]
  },
  {
   "cell_type": "code",
   "execution_count": 6,
   "metadata": {},
   "outputs": [
    {
     "name": "stdout",
     "output_type": "stream",
     "text": [
      "y [0] = 46.8529\n",
      "y [1] = 61.6745\n"
     ]
    }
   ],
   "source": [
    "g = [h[5],h[18]]\n",
    "x = []\n",
    "for i in range(len(g)):\n",
    "    x.append((model.coef_*g[i])+model.intercept_)\n",
    "    print(\"y\",[i],\"=\",\"%.4f\"%x[i])"
   ]
  },
  {
   "cell_type": "code",
   "execution_count": 7,
   "metadata": {},
   "outputs": [
    {
     "data": {
      "image/png": "[encoded data removed]",
      "text/plain": [
       "<Figure size 432x288 with 1 Axes>"
      ]
     },
     "metadata": {
      "needs_background": "light"
     },
     "output_type": "display_data"
    }
   ],
   "source": [
    "plt.plot(g, x, color =\"Blue\")\n",
    "plt.scatter(h, w, color = \"Red\")\n",
    "plt.title(\"Linear regression\")\n",
    "plt.xlabel(\"height\")\n",
    "plt.ylabel(\"weight\")\n",
    "plt.show()"
   ]
  },
  {
   "cell_type": "code",
   "execution_count": null,
   "metadata": {},
   "outputs": [],
   "source": []
  }
 ],
 "metadata": {
  "kernelspec": {
   "display_name": "Python 3",
   "language": "python",
   "name": "python3"
  },
  "language_info": {
   "codemirror_mode": {
    "name": "ipython",
    "version": 3
   },
   "file_extension": ".py",
   "mimetype": "text/x-python",
   "name": "python",
   "nbconvert_exporter": "python",
   "pygments_lexer": "ipython3",
   "version": "3.8.1"
  }
 },
 "nbformat": 4,
 "nbformat_minor": 4
}
