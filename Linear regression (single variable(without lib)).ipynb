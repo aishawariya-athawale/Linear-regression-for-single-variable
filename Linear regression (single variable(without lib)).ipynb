{
 "cells": [
  {
   "cell_type": "code",
   "execution_count": 1,
   "metadata": {},
   "outputs": [],
   "source": [
    "import matplotlib.pyplot as plt"
   ]
  },
  {
   "cell_type": "markdown",
   "metadata": {},
   "source": [
    "The data here is height & weight of 21 people"
   ]
  },
  {
   "cell_type": "code",
   "execution_count": 3,
   "metadata": {},
   "outputs": [],
   "source": [
    "h = [5.5, 5.42, 5.92, 5.42,5.75,5.0,5.33,5.67,5.08,5.92,5.42,5.92,5.67,5.42,5.58,5.5,5.17,5.67,5.67,5.5]\n",
    "w = [58,56,60,45,60,47,70,62,42,74,61,60,72,58,50,62,45,58,70,60]"
   ]
  },
  {
   "cell_type": "code",
   "execution_count": 4,
   "metadata": {},
   "outputs": [],
   "source": [
    "hs =[]\n",
    "hw =[]\n",
    "n = len(h)\n",
    "cnt = 0"
   ]
  },
  {
   "cell_type": "code",
   "execution_count": 5,
   "metadata": {},
   "outputs": [],
   "source": [
    "for i in range(n):\n",
    "    hw.append(h[i]*w[i])\n",
    "    hs.append(h[i]*h[i])"
   ]
  },
  {
   "cell_type": "code",
   "execution_count": 11,
   "metadata": {},
   "outputs": [
    {
     "name": "stdout",
     "output_type": "stream",
     "text": [
      "===================================================================\n",
      "no \t|h \t\t|w \t\t|hs \t\t|hw\n",
      "===================================================================\n",
      "61 \t| 5.5000 \t| 58.0000 \t| 30.2500 \t| 319.0000\n",
      "62 \t| 5.4200 \t| 56.0000 \t| 29.3764 \t| 303.5200\n",
      "63 \t| 5.9200 \t| 60.0000 \t| 35.0464 \t| 355.2000\n",
      "64 \t| 5.4200 \t| 45.0000 \t| 29.3764 \t| 243.9000\n",
      "65 \t| 5.7500 \t| 60.0000 \t| 33.0625 \t| 345.0000\n",
      "66 \t| 5.0000 \t| 47.0000 \t| 25.0000 \t| 235.0000\n",
      "67 \t| 5.3300 \t| 70.0000 \t| 28.4089 \t| 373.1000\n",
      "68 \t| 5.6700 \t| 62.0000 \t| 32.1489 \t| 351.5400\n",
      "69 \t| 5.0800 \t| 42.0000 \t| 25.8064 \t| 213.3600\n",
      "70 \t| 5.9200 \t| 74.0000 \t| 35.0464 \t| 438.0800\n",
      "71 \t| 5.4200 \t| 61.0000 \t| 29.3764 \t| 330.6200\n",
      "72 \t| 5.9200 \t| 60.0000 \t| 35.0464 \t| 355.2000\n",
      "73 \t| 5.6700 \t| 72.0000 \t| 32.1489 \t| 408.2400\n",
      "74 \t| 5.4200 \t| 58.0000 \t| 29.3764 \t| 314.3600\n",
      "75 \t| 5.5800 \t| 50.0000 \t| 31.1364 \t| 279.0000\n",
      "76 \t| 5.5000 \t| 62.0000 \t| 30.2500 \t| 341.0000\n",
      "77 \t| 5.1700 \t| 45.0000 \t| 26.7289 \t| 232.6500\n",
      "78 \t| 5.6700 \t| 58.0000 \t| 32.1489 \t| 328.8600\n",
      "79 \t| 5.6700 \t| 70.0000 \t| 32.1489 \t| 396.9000\n",
      "80 \t| 5.5000 \t| 60.0000 \t| 30.2500 \t| 330.0000\n",
      "===================================================================\n",
      "\t| 110.5300 \t| 1170.0000 \t| 6494.5300 \t| 612.1335\n"
     ]
    }
   ],
   "source": [
    "c = sum(h)\n",
    "d = sum(w)\n",
    "xy =sum(hw)\n",
    "hi =sum(hs)\n",
    "\n",
    "#printing the height, weight, square of height & product of height & weight in table format\n",
    "\n",
    "print(\"===================================================================\")\n",
    "print(\"no\",\"\\t|h\", \"\\t\\t|w\", \"\\t\\t|hs\",\"\\t\\t|hw\")\n",
    "print(\"===================================================================\")\n",
    "for i in range(n):\n",
    "    cnt=cnt+1\n",
    "    print(cnt,\"\\t|\",\"%.4f\" %h[i], \"\\t|\",\"%.4f\" %w[i], \"\\t|\",\"%.4f\" %hs[i],\"\\t|\",\"%.4f\" %hw[i])\n",
    "print(\"===================================================================\")\n",
    "\n",
    "#sum of heights, weights, square of height, product of height & weight\n",
    "\n",
    "print(\"\\t|\",\"%.4f\" %c, \"\\t|\",\"%.4f\" %d, \"\\t|\",\"%.4f\" %xy,\"\\t|\",\"%.4f\" %hi)"
   ]
  },
  {
   "cell_type": "markdown",
   "metadata": {},
   "source": [
    "Slope & intercept of the data points"
   ]
  },
  {
   "cell_type": "code",
   "execution_count": 13,
   "metadata": {},
   "outputs": [
    {
     "name": "stdout",
     "output_type": "stream",
     "text": [
      "\n",
      "slope =  10.6177\n",
      "intercept =  -0.0447\n"
     ]
    }
   ],
   "source": [
    "a = ((c*d)-(cnt*xy))/((c*c)-(cnt*hi))\n",
    "b = ((xy*c)-(d*hi))/((c*c)-(cnt*hi))\n",
    "print()\n",
    "print(\"slope = \",\"%.4f\"%a)\n",
    "print(\"intercept = \",\"%.4f\"%b)"
   ]
  },
  {
   "cell_type": "markdown",
   "metadata": {},
   "source": [
    "Selecting data points for plotting graph"
   ]
  },
  {
   "cell_type": "code",
   "execution_count": 14,
   "metadata": {},
   "outputs": [
    {
     "name": "stdout",
     "output_type": "stream",
     "text": [
      "y [0] = 53.0440\n",
      "y [1] = 60.1579\n"
     ]
    }
   ],
   "source": [
    "g = [h[5],h[18]]\n",
    "x = []\n",
    "for i in range(len(g)):\n",
    "    x.append((a*g[i])+b)\n",
    "    print(\"y\",[i],\"=\",\"%.4f\"%x[i])"
   ]
  },
  {
   "cell_type": "code",
   "execution_count": 15,
   "metadata": {},
   "outputs": [
    {
     "data": {
      "image/png": "[encoded data removed]",
      "text/plain": [
       "<Figure size 432x288 with 1 Axes>"
      ]
     },
     "metadata": {
      "needs_background": "light"
     },
     "output_type": "display_data"
    }
   ],
   "source": [
    "plt.plot(g, x, color =\"Purple\")\n",
    "plt.scatter(h, w, color = \"Red\")\n",
    "plt.title(\"Linear regression\")\n",
    "plt.xlabel(\"height\")\n",
    "plt.ylabel(\"weight\")\n",
    "plt.show()"
   ]
  },
  {
   "cell_type": "code",
   "execution_count": null,
   "metadata": {},
   "outputs": [],
   "source": []
  }
 ],
 "metadata": {
  "kernelspec": {
   "display_name": "Python 3",
   "language": "python",
   "name": "python3"
  },
  "language_info": {
   "codemirror_mode": {
    "name": "ipython",
    "version": 3
   },
   "file_extension": ".py",
   "mimetype": "text/x-python",
   "name": "python",
   "nbconvert_exporter": "python",
   "pygments_lexer": "ipython3",
   "version": "3.8.1"
  }
 },
 "nbformat": 4,
 "nbformat_minor": 4
}
